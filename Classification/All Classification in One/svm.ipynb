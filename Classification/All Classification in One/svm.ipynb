{
 "cells": [
  {
   "cell_type": "code",
   "execution_count": 1,
   "id": "initial_id",
   "metadata": {
    "collapsed": true,
    "ExecuteTime": {
     "end_time": "2023-09-17T18:05:40.901748500Z",
     "start_time": "2023-09-17T18:05:39.422788900Z"
    }
   },
   "outputs": [],
   "source": [
    "import numpy as np\n",
    "import matplotlib.pyplot as plt\n",
    "import pandas as pd"
   ]
  },
  {
   "cell_type": "code",
   "execution_count": 2,
   "outputs": [
    {
     "data": {
      "text/plain": "array([[ 5,  1,  1, ...,  3,  1,  1],\n       [ 5,  4,  4, ...,  3,  2,  1],\n       [ 3,  1,  1, ...,  3,  1,  1],\n       ...,\n       [ 5, 10, 10, ...,  8, 10,  2],\n       [ 4,  8,  6, ..., 10,  6,  1],\n       [ 4,  8,  8, ..., 10,  4,  1]], dtype=int64)"
     },
     "execution_count": 2,
     "metadata": {},
     "output_type": "execute_result"
    }
   ],
   "source": [
    "data = pd.read_csv('Data.csv')\n",
    "features = data.iloc[:,1:-1].to_numpy()\n",
    "labels = data.iloc[:,-1].to_numpy()\n",
    "features"
   ],
   "metadata": {
    "collapsed": false,
    "ExecuteTime": {
     "end_time": "2023-09-17T18:05:40.935344800Z",
     "start_time": "2023-09-17T18:05:40.906753700Z"
    }
   },
   "id": "79b8af021e24b1e3"
  },
  {
   "cell_type": "code",
   "execution_count": 3,
   "outputs": [
    {
     "data": {
      "text/plain": "array([[ 5.,  1.,  1., ...,  3.,  1.,  1.],\n       [ 5.,  4.,  4., ...,  3.,  2.,  1.],\n       [ 3.,  1.,  1., ...,  3.,  1.,  1.],\n       ...,\n       [ 5., 10., 10., ...,  8., 10.,  2.],\n       [ 4.,  8.,  6., ..., 10.,  6.,  1.],\n       [ 4.,  8.,  8., ..., 10.,  4.,  1.]])"
     },
     "execution_count": 3,
     "metadata": {},
     "output_type": "execute_result"
    }
   ],
   "source": [
    "from sklearn.impute import SimpleImputer\n",
    "\n",
    "miss = SimpleImputer(\n",
    "    missing_values=np.nan,\n",
    "    strategy=\"mean\",\n",
    ")\n",
    "features = miss.fit_transform(features)\n",
    "features"
   ],
   "metadata": {
    "collapsed": false,
    "ExecuteTime": {
     "end_time": "2023-09-17T18:05:42.161372500Z",
     "start_time": "2023-09-17T18:05:40.930332100Z"
    }
   },
   "id": "1c3587c869129008"
  },
  {
   "cell_type": "code",
   "execution_count": 4,
   "outputs": [
    {
     "data": {
      "text/plain": "array([[10.,  1.,  1., ...,  5.,  4.,  1.],\n       [ 1.,  1.,  1., ...,  3.,  1.,  1.],\n       [ 5.,  1.,  1., ...,  3.,  1.,  1.],\n       ...,\n       [ 1.,  1.,  1., ...,  1.,  1.,  1.],\n       [ 3.,  1.,  1., ...,  2.,  1.,  1.],\n       [10.,  9.,  7., ...,  7.,  7.,  1.]])"
     },
     "execution_count": 4,
     "metadata": {},
     "output_type": "execute_result"
    }
   ],
   "source": [
    "from sklearn.model_selection import train_test_split\n",
    "\n",
    "features_train,features_test,labels_train,labels_test = train_test_split(\n",
    "    features,labels,random_state=0,test_size=0.2\n",
    ")\n",
    "features_train"
   ],
   "metadata": {
    "collapsed": false,
    "ExecuteTime": {
     "end_time": "2023-09-17T18:05:42.178584Z",
     "start_time": "2023-09-17T18:05:42.156384100Z"
    }
   },
   "id": "d7cdff1b57cca585"
  },
  {
   "cell_type": "code",
   "execution_count": 5,
   "outputs": [
    {
     "data": {
      "text/plain": "array([[-1.20834278, -0.72017241, -0.74303148, ..., -1.01206688,\n        -0.57972754, -0.39273091],\n       [-0.51569441, -0.72017241, -0.74303148, ..., -0.58280012,\n        -0.57972754, -0.39273091],\n       [ 0.17695396,  0.60417149,  0.57045643, ...,  0.27573339,\n         0.12940347, -0.39273091],\n       ...,\n       [-0.16937022, -0.72017241, -0.74303148, ..., -1.01206688,\n        -0.57972754, -0.39273091],\n       [-0.16937022,  2.25960136,  0.24208445, ...,  2.42206718,\n         2.611362  , -0.39273091],\n       [-0.86201859, -0.72017241, -0.74303148, ..., -0.58280012,\n        -0.57972754, -0.39273091]])"
     },
     "execution_count": 5,
     "metadata": {},
     "output_type": "execute_result"
    }
   ],
   "source": [
    "from sklearn.preprocessing import StandardScaler\n",
    "\n",
    "scale = StandardScaler()\n",
    "features_train = scale.fit_transform(features_train)\n",
    "features_test = scale.fit_transform(features_test)\n",
    "features_test"
   ],
   "metadata": {
    "collapsed": false,
    "ExecuteTime": {
     "end_time": "2023-09-17T18:05:42.237490Z",
     "start_time": "2023-09-17T18:05:42.173585700Z"
    }
   },
   "id": "571810fd08496ed1"
  },
  {
   "cell_type": "code",
   "execution_count": 6,
   "outputs": [
    {
     "data": {
      "text/plain": "SVC()",
      "text/html": "<style>#sk-container-id-1 {color: black;}#sk-container-id-1 pre{padding: 0;}#sk-container-id-1 div.sk-toggleable {background-color: white;}#sk-container-id-1 label.sk-toggleable__label {cursor: pointer;display: block;width: 100%;margin-bottom: 0;padding: 0.3em;box-sizing: border-box;text-align: center;}#sk-container-id-1 label.sk-toggleable__label-arrow:before {content: \"▸\";float: left;margin-right: 0.25em;color: #696969;}#sk-container-id-1 label.sk-toggleable__label-arrow:hover:before {color: black;}#sk-container-id-1 div.sk-estimator:hover label.sk-toggleable__label-arrow:before {color: black;}#sk-container-id-1 div.sk-toggleable__content {max-height: 0;max-width: 0;overflow: hidden;text-align: left;background-color: #f0f8ff;}#sk-container-id-1 div.sk-toggleable__content pre {margin: 0.2em;color: black;border-radius: 0.25em;background-color: #f0f8ff;}#sk-container-id-1 input.sk-toggleable__control:checked~div.sk-toggleable__content {max-height: 200px;max-width: 100%;overflow: auto;}#sk-container-id-1 input.sk-toggleable__control:checked~label.sk-toggleable__label-arrow:before {content: \"▾\";}#sk-container-id-1 div.sk-estimator input.sk-toggleable__control:checked~label.sk-toggleable__label {background-color: #d4ebff;}#sk-container-id-1 div.sk-label input.sk-toggleable__control:checked~label.sk-toggleable__label {background-color: #d4ebff;}#sk-container-id-1 input.sk-hidden--visually {border: 0;clip: rect(1px 1px 1px 1px);clip: rect(1px, 1px, 1px, 1px);height: 1px;margin: -1px;overflow: hidden;padding: 0;position: absolute;width: 1px;}#sk-container-id-1 div.sk-estimator {font-family: monospace;background-color: #f0f8ff;border: 1px dotted black;border-radius: 0.25em;box-sizing: border-box;margin-bottom: 0.5em;}#sk-container-id-1 div.sk-estimator:hover {background-color: #d4ebff;}#sk-container-id-1 div.sk-parallel-item::after {content: \"\";width: 100%;border-bottom: 1px solid gray;flex-grow: 1;}#sk-container-id-1 div.sk-label:hover label.sk-toggleable__label {background-color: #d4ebff;}#sk-container-id-1 div.sk-serial::before {content: \"\";position: absolute;border-left: 1px solid gray;box-sizing: border-box;top: 0;bottom: 0;left: 50%;z-index: 0;}#sk-container-id-1 div.sk-serial {display: flex;flex-direction: column;align-items: center;background-color: white;padding-right: 0.2em;padding-left: 0.2em;position: relative;}#sk-container-id-1 div.sk-item {position: relative;z-index: 1;}#sk-container-id-1 div.sk-parallel {display: flex;align-items: stretch;justify-content: center;background-color: white;position: relative;}#sk-container-id-1 div.sk-item::before, #sk-container-id-1 div.sk-parallel-item::before {content: \"\";position: absolute;border-left: 1px solid gray;box-sizing: border-box;top: 0;bottom: 0;left: 50%;z-index: -1;}#sk-container-id-1 div.sk-parallel-item {display: flex;flex-direction: column;z-index: 1;position: relative;background-color: white;}#sk-container-id-1 div.sk-parallel-item:first-child::after {align-self: flex-end;width: 50%;}#sk-container-id-1 div.sk-parallel-item:last-child::after {align-self: flex-start;width: 50%;}#sk-container-id-1 div.sk-parallel-item:only-child::after {width: 0;}#sk-container-id-1 div.sk-dashed-wrapped {border: 1px dashed gray;margin: 0 0.4em 0.5em 0.4em;box-sizing: border-box;padding-bottom: 0.4em;background-color: white;}#sk-container-id-1 div.sk-label label {font-family: monospace;font-weight: bold;display: inline-block;line-height: 1.2em;}#sk-container-id-1 div.sk-label-container {text-align: center;}#sk-container-id-1 div.sk-container {/* jupyter's `normalize.less` sets `[hidden] { display: none; }` but bootstrap.min.css set `[hidden] { display: none !important; }` so we also need the `!important` here to be able to override the default hidden behavior on the sphinx rendered scikit-learn.org. See: https://github.com/scikit-learn/scikit-learn/issues/21755 */display: inline-block !important;position: relative;}#sk-container-id-1 div.sk-text-repr-fallback {display: none;}</style><div id=\"sk-container-id-1\" class=\"sk-top-container\"><div class=\"sk-text-repr-fallback\"><pre>SVC()</pre><b>In a Jupyter environment, please rerun this cell to show the HTML representation or trust the notebook. <br />On GitHub, the HTML representation is unable to render, please try loading this page with nbviewer.org.</b></div><div class=\"sk-container\" hidden><div class=\"sk-item\"><div class=\"sk-estimator sk-toggleable\"><input class=\"sk-toggleable__control sk-hidden--visually\" id=\"sk-estimator-id-1\" type=\"checkbox\" checked><label for=\"sk-estimator-id-1\" class=\"sk-toggleable__label sk-toggleable__label-arrow\">SVC</label><div class=\"sk-toggleable__content\"><pre>SVC()</pre></div></div></div></div></div>"
     },
     "execution_count": 6,
     "metadata": {},
     "output_type": "execute_result"
    }
   ],
   "source": [
    "from sklearn.svm import SVC\n",
    "\n",
    "model = SVC(kernel='rbf')\n",
    "model.fit(features_train,labels_train)"
   ],
   "metadata": {
    "collapsed": false,
    "ExecuteTime": {
     "end_time": "2023-09-17T18:05:42.237490Z",
     "start_time": "2023-09-17T18:05:42.201112800Z"
    }
   },
   "id": "c3df00f88b30624a"
  },
  {
   "cell_type": "code",
   "execution_count": 7,
   "outputs": [
    {
     "data": {
      "text/plain": "array([[2, 2],\n       [2, 2],\n       [4, 4],\n       [4, 4],\n       [2, 2],\n       [2, 2],\n       [2, 2],\n       [4, 4],\n       [2, 2],\n       [2, 2],\n       [4, 4],\n       [2, 2],\n       [4, 4],\n       [2, 2],\n       [2, 2],\n       [4, 2],\n       [4, 4],\n       [4, 4],\n       [4, 4],\n       [2, 2],\n       [2, 2],\n       [2, 2],\n       [4, 4],\n       [2, 2],\n       [4, 4],\n       [4, 4],\n       [2, 2],\n       [2, 2],\n       [2, 2],\n       [4, 4],\n       [2, 2],\n       [4, 4],\n       [4, 4],\n       [2, 2],\n       [2, 2],\n       [2, 2],\n       [4, 4],\n       [4, 4],\n       [2, 2],\n       [4, 4],\n       [2, 2],\n       [2, 2],\n       [2, 2],\n       [2, 2],\n       [2, 2],\n       [2, 2],\n       [2, 2],\n       [4, 4],\n       [2, 2],\n       [2, 2],\n       [4, 4],\n       [2, 2],\n       [4, 4],\n       [2, 2],\n       [2, 2],\n       [2, 2],\n       [4, 4],\n       [4, 2],\n       [2, 2],\n       [4, 4],\n       [2, 2],\n       [2, 2],\n       [2, 2],\n       [2, 2],\n       [2, 2],\n       [2, 2],\n       [2, 2],\n       [2, 2],\n       [4, 4],\n       [4, 4],\n       [2, 2],\n       [2, 2],\n       [2, 2],\n       [2, 2],\n       [2, 2],\n       [2, 2],\n       [4, 4],\n       [2, 2],\n       [2, 2],\n       [2, 2],\n       [4, 4],\n       [2, 2],\n       [4, 4],\n       [2, 2],\n       [2, 2],\n       [4, 4],\n       [2, 2],\n       [4, 2],\n       [4, 4],\n       [2, 2],\n       [4, 4],\n       [2, 2],\n       [4, 4],\n       [4, 4],\n       [2, 4],\n       [4, 2],\n       [4, 4],\n       [4, 4],\n       [4, 4],\n       [2, 2],\n       [2, 2],\n       [2, 2],\n       [4, 4],\n       [4, 4],\n       [2, 2],\n       [2, 2],\n       [4, 4],\n       [4, 4],\n       [2, 2],\n       [2, 2],\n       [4, 4],\n       [2, 2],\n       [2, 2],\n       [4, 4],\n       [2, 2],\n       [2, 2],\n       [2, 2],\n       [4, 4],\n       [2, 2],\n       [2, 2],\n       [2, 2],\n       [4, 4],\n       [2, 2],\n       [2, 2],\n       [4, 4],\n       [4, 4],\n       [2, 2],\n       [4, 4],\n       [2, 2],\n       [4, 4],\n       [4, 2],\n       [2, 2],\n       [4, 4],\n       [2, 2],\n       [2, 2],\n       [4, 4],\n       [2, 2]], dtype=int64)"
     },
     "execution_count": 7,
     "metadata": {},
     "output_type": "execute_result"
    }
   ],
   "source": [
    "np.concatenate([\n",
    "    model.predict(features_test).reshape(len(labels_test),1),\n",
    "    labels_test.reshape(len(labels_test),1)\n",
    "],axis=1)"
   ],
   "metadata": {
    "collapsed": false,
    "ExecuteTime": {
     "end_time": "2023-09-17T18:05:42.301922800Z",
     "start_time": "2023-09-17T18:05:42.225122200Z"
    }
   },
   "id": "879bb1ea695c2c1f"
  },
  {
   "cell_type": "code",
   "execution_count": 8,
   "outputs": [
    {
     "name": "stdout",
     "output_type": "stream",
     "text": [
      "[[82  5]\n",
      " [ 1 49]] \n",
      "Accuracy :  0.9562043795620438\n"
     ]
    }
   ],
   "source": [
    "from sklearn.metrics import accuracy_score,confusion_matrix\n",
    "\n",
    "conf = confusion_matrix(\n",
    "    y_true=labels_test,\n",
    "    y_pred=model.predict(features_test)\n",
    ")\n",
    "print(conf,\"\\nAccuracy : \",accuracy_score(\n",
    "    y_true=labels_test,\n",
    "    y_pred=model.predict(features_test)\n",
    "))"
   ],
   "metadata": {
    "collapsed": false,
    "ExecuteTime": {
     "end_time": "2023-09-17T18:05:42.306940400Z",
     "start_time": "2023-09-17T18:05:42.247095900Z"
    }
   },
   "id": "a2473273528ae2c0"
  },
  {
   "cell_type": "code",
   "execution_count": 9,
   "outputs": [
    {
     "data": {
      "text/plain": "array([[ 1.98839518, -0.69781134, -0.74152574, ...,  0.61907387,\n         0.34532102, -0.33863738],\n       [-1.22468404, -0.69781134, -0.74152574, ..., -0.18860673,\n        -0.62157783, -0.33863738],\n       [ 0.20335117, -0.69781134, -0.74152574, ..., -0.18860673,\n        -0.62157783, -0.33863738],\n       ...,\n       [-1.22468404, -0.69781134, -0.74152574, ..., -0.99628733,\n        -0.62157783, -0.33863738],\n       [-0.51066644, -0.69781134, -0.74152574, ..., -0.59244703,\n        -0.62157783, -0.33863738],\n       [ 1.98839518,  1.90512627,  1.27779124, ...,  1.42675446,\n         1.31221987, -0.33863738]])"
     },
     "execution_count": 9,
     "metadata": {},
     "output_type": "execute_result"
    }
   ],
   "source": [
    "features_train"
   ],
   "metadata": {
    "collapsed": false,
    "ExecuteTime": {
     "end_time": "2023-09-17T18:05:42.306940400Z",
     "start_time": "2023-09-17T18:05:42.270003200Z"
    }
   },
   "id": "e200f0b9eafe668a"
  },
  {
   "cell_type": "code",
   "execution_count": 10,
   "outputs": [
    {
     "data": {
      "text/plain": "array([[10.23047852,  1.06753856,  1.00458546, ...,  4.7998301 ,\n         3.60896378,  1.08646257],\n       [ 0.95281513,  1.06753856,  1.00458546, ...,  2.91829471,\n         0.88196739,  1.08646257],\n       [ 5.07622108,  1.06753856,  1.00458546, ...,  2.91829471,\n         0.88196739,  1.08646257],\n       ...,\n       [ 0.95281513,  1.06753856,  1.00458546, ...,  1.03675931,\n         0.88196739,  1.08646257],\n       [ 3.01451811,  1.06753856,  1.00458546, ...,  1.97752701,\n         0.88196739,  1.08646257],\n       [10.23047852,  8.92935637,  7.15406571, ...,  6.68136549,\n         6.33596018,  1.08646257]])"
     },
     "execution_count": 10,
     "metadata": {},
     "output_type": "execute_result"
    }
   ],
   "source": [
    "scale.inverse_transform(features_train)"
   ],
   "metadata": {
    "collapsed": false,
    "ExecuteTime": {
     "end_time": "2023-09-17T18:05:42.306940400Z",
     "start_time": "2023-09-17T18:05:42.281857400Z"
    }
   },
   "id": "ff7f7cd7bd6cac56"
  }
 ],
 "metadata": {
  "kernelspec": {
   "display_name": "Python 3",
   "language": "python",
   "name": "python3"
  },
  "language_info": {
   "codemirror_mode": {
    "name": "ipython",
    "version": 2
   },
   "file_extension": ".py",
   "mimetype": "text/x-python",
   "name": "python",
   "nbconvert_exporter": "python",
   "pygments_lexer": "ipython2",
   "version": "2.7.6"
  }
 },
 "nbformat": 4,
 "nbformat_minor": 5
}
