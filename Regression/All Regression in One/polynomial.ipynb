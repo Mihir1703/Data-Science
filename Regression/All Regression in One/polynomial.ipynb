{
 "cells": [
  {
   "cell_type": "code",
   "execution_count": 50,
   "id": "initial_id",
   "metadata": {
    "collapsed": true,
    "ExecuteTime": {
     "end_time": "2023-09-16T20:06:09.918960200Z",
     "start_time": "2023-09-16T20:06:09.870588100Z"
    }
   },
   "outputs": [],
   "source": [
    "import numpy as np\n",
    "import matplotlib.pyplot as plt\n",
    "import pandas as pd"
   ]
  },
  {
   "cell_type": "code",
   "execution_count": 51,
   "outputs": [
    {
     "data": {
      "text/plain": "         AT      V       AP     RH      PE\n0     14.96  41.76  1024.07  73.17  463.26\n1     25.18  62.96  1020.04  59.08  444.37\n2      5.11  39.40  1012.16  92.14  488.56\n3     20.86  57.32  1010.24  76.64  446.48\n4     10.82  37.50  1009.23  96.62  473.90\n...     ...    ...      ...    ...     ...\n9563  16.65  49.69  1014.01  91.00  460.03\n9564  13.19  39.18  1023.67  66.78  469.62\n9565  31.32  74.33  1012.92  36.48  429.57\n9566  24.48  69.45  1013.86  62.39  435.74\n9567  21.60  62.52  1017.23  67.87  453.28\n\n[9568 rows x 5 columns]",
      "text/html": "<div>\n<style scoped>\n    .dataframe tbody tr th:only-of-type {\n        vertical-align: middle;\n    }\n\n    .dataframe tbody tr th {\n        vertical-align: top;\n    }\n\n    .dataframe thead th {\n        text-align: right;\n    }\n</style>\n<table border=\"1\" class=\"dataframe\">\n  <thead>\n    <tr style=\"text-align: right;\">\n      <th></th>\n      <th>AT</th>\n      <th>V</th>\n      <th>AP</th>\n      <th>RH</th>\n      <th>PE</th>\n    </tr>\n  </thead>\n  <tbody>\n    <tr>\n      <th>0</th>\n      <td>14.96</td>\n      <td>41.76</td>\n      <td>1024.07</td>\n      <td>73.17</td>\n      <td>463.26</td>\n    </tr>\n    <tr>\n      <th>1</th>\n      <td>25.18</td>\n      <td>62.96</td>\n      <td>1020.04</td>\n      <td>59.08</td>\n      <td>444.37</td>\n    </tr>\n    <tr>\n      <th>2</th>\n      <td>5.11</td>\n      <td>39.40</td>\n      <td>1012.16</td>\n      <td>92.14</td>\n      <td>488.56</td>\n    </tr>\n    <tr>\n      <th>3</th>\n      <td>20.86</td>\n      <td>57.32</td>\n      <td>1010.24</td>\n      <td>76.64</td>\n      <td>446.48</td>\n    </tr>\n    <tr>\n      <th>4</th>\n      <td>10.82</td>\n      <td>37.50</td>\n      <td>1009.23</td>\n      <td>96.62</td>\n      <td>473.90</td>\n    </tr>\n    <tr>\n      <th>...</th>\n      <td>...</td>\n      <td>...</td>\n      <td>...</td>\n      <td>...</td>\n      <td>...</td>\n    </tr>\n    <tr>\n      <th>9563</th>\n      <td>16.65</td>\n      <td>49.69</td>\n      <td>1014.01</td>\n      <td>91.00</td>\n      <td>460.03</td>\n    </tr>\n    <tr>\n      <th>9564</th>\n      <td>13.19</td>\n      <td>39.18</td>\n      <td>1023.67</td>\n      <td>66.78</td>\n      <td>469.62</td>\n    </tr>\n    <tr>\n      <th>9565</th>\n      <td>31.32</td>\n      <td>74.33</td>\n      <td>1012.92</td>\n      <td>36.48</td>\n      <td>429.57</td>\n    </tr>\n    <tr>\n      <th>9566</th>\n      <td>24.48</td>\n      <td>69.45</td>\n      <td>1013.86</td>\n      <td>62.39</td>\n      <td>435.74</td>\n    </tr>\n    <tr>\n      <th>9567</th>\n      <td>21.60</td>\n      <td>62.52</td>\n      <td>1017.23</td>\n      <td>67.87</td>\n      <td>453.28</td>\n    </tr>\n  </tbody>\n</table>\n<p>9568 rows × 5 columns</p>\n</div>"
     },
     "execution_count": 51,
     "metadata": {},
     "output_type": "execute_result"
    }
   ],
   "source": [
    "data = pd.read_csv('Data.csv')\n",
    "feature = data.iloc[:,:-1].to_numpy()\n",
    "label = data.iloc[:,-1].to_numpy()\n",
    "data"
   ],
   "metadata": {
    "collapsed": false,
    "ExecuteTime": {
     "end_time": "2023-09-16T20:06:10.044665400Z",
     "start_time": "2023-09-16T20:06:09.882722500Z"
    }
   },
   "id": "4c6f8a1c42a7832e"
  },
  {
   "cell_type": "code",
   "execution_count": 52,
   "outputs": [],
   "source": [
    "from sklearn.model_selection import train_test_split\n",
    "\n",
    "feature_train, feature_test, label_train, label_test = train_test_split(\n",
    "    feature,\n",
    "    label,\n",
    "    test_size=0.2,\n",
    "    random_state=np.random.randint(low=0, high=100, size=1)[0],\n",
    "    shuffle=True\n",
    ")"
   ],
   "metadata": {
    "collapsed": false,
    "ExecuteTime": {
     "end_time": "2023-09-16T20:06:10.079665500Z",
     "start_time": "2023-09-16T20:06:09.923970300Z"
    }
   },
   "id": "e8fd1fc4c263d69b"
  },
  {
   "cell_type": "code",
   "execution_count": 53,
   "outputs": [
    {
     "data": {
      "text/plain": "array([[1.00000000e+00, 2.75100000e+01, 6.37300000e+01, ...,\n        2.95127391e+11, 1.93270351e+10, 1.26567136e+09],\n       [1.00000000e+00, 2.24200000e+01, 6.25200000e+01, ...,\n        2.61872687e+11, 1.62944494e+10, 1.01388611e+09],\n       [1.00000000e+00, 2.75000000e+01, 6.53400000e+01, ...,\n        1.10117256e+11, 5.14928614e+09, 2.40790123e+08],\n       ...,\n       [1.00000000e+00, 2.08400000e+01, 5.11900000e+01, ...,\n        6.05350160e+11, 5.04803565e+10, 4.20957416e+09],\n       [1.00000000e+00, 1.85000000e+01, 5.20800000e+01, ...,\n        1.01523502e+12, 1.00985732e+11, 1.00450811e+10],\n       [1.00000000e+00, 1.28800000e+01, 4.38000000e+01, ...,\n        2.16988869e+11, 1.25503585e+10, 7.25896670e+08]])"
     },
     "execution_count": 53,
     "metadata": {},
     "output_type": "execute_result"
    }
   ],
   "source": [
    "from sklearn.preprocessing import PolynomialFeatures\n",
    "from sklearn.linear_model import LinearRegression\n",
    "\n",
    "poly_model = PolynomialFeatures(degree=5)\n",
    "feature_train_poly = poly_model.fit_transform(feature_train)\n",
    "\n",
    "polyno_model = LinearRegression()\n",
    "polyno_model.fit(feature_train_poly,label_train)\n",
    "feature_train_poly"
   ],
   "metadata": {
    "collapsed": false,
    "ExecuteTime": {
     "end_time": "2023-09-16T20:06:10.297144600Z",
     "start_time": "2023-09-16T20:06:10.064667700Z"
    }
   },
   "id": "566213acd2df43d9"
  },
  {
   "cell_type": "code",
   "execution_count": 54,
   "outputs": [
    {
     "data": {
      "text/plain": "array([434.11285036, 434.3526227 , 433.60865149, ..., 434.18467191,\n       482.22814414, 446.71149596])"
     },
     "execution_count": 54,
     "metadata": {},
     "output_type": "execute_result"
    }
   ],
   "source": [
    "polyno_model.predict(poly_model.fit_transform(feature_test))"
   ],
   "metadata": {
    "collapsed": false,
    "ExecuteTime": {
     "end_time": "2023-09-16T20:06:10.297144600Z",
     "start_time": "2023-09-16T20:06:10.249729700Z"
    }
   },
   "id": "41a5ed1db977256b"
  },
  {
   "cell_type": "code",
   "execution_count": 55,
   "outputs": [
    {
     "data": {
      "text/plain": "array([431.93, 433.19, 430.38, ..., 443.26, 480.53, 442.01])"
     },
     "execution_count": 55,
     "metadata": {},
     "output_type": "execute_result"
    }
   ],
   "source": [
    "label_test"
   ],
   "metadata": {
    "collapsed": false,
    "ExecuteTime": {
     "end_time": "2023-09-16T20:06:10.312315600Z",
     "start_time": "2023-09-16T20:06:10.302151300Z"
    }
   },
   "id": "11c59915c1ae2797"
  },
  {
   "cell_type": "code",
   "execution_count": 56,
   "outputs": [
    {
     "data": {
      "text/plain": "0.9443859008995806"
     },
     "execution_count": 56,
     "metadata": {},
     "output_type": "execute_result"
    }
   ],
   "source": [
    "from sklearn.metrics import r2_score\n",
    "\n",
    "r2_score(y_true=label_test,y_pred=polyno_model.predict(poly_model.fit_transform(feature_test)))"
   ],
   "metadata": {
    "collapsed": false,
    "ExecuteTime": {
     "end_time": "2023-09-16T20:06:10.415338200Z",
     "start_time": "2023-09-16T20:06:10.312315600Z"
    }
   },
   "id": "7997248947227420"
  }
 ],
 "metadata": {
  "kernelspec": {
   "display_name": "Python 3",
   "language": "python",
   "name": "python3"
  },
  "language_info": {
   "codemirror_mode": {
    "name": "ipython",
    "version": 2
   },
   "file_extension": ".py",
   "mimetype": "text/x-python",
   "name": "python",
   "nbconvert_exporter": "python",
   "pygments_lexer": "ipython2",
   "version": "2.7.6"
  }
 },
 "nbformat": 4,
 "nbformat_minor": 5
}
