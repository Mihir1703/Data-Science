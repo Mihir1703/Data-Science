{
 "cells": [
  {
   "cell_type": "markdown",
   "source": [
    "## Importing Necessary Libraries (Pandas, Numpy, Matplotlib)"
   ],
   "metadata": {
    "collapsed": false
   },
   "id": "9c15d381eada4857"
  },
  {
   "cell_type": "code",
   "execution_count": 1,
   "id": "initial_id",
   "metadata": {
    "collapsed": true,
    "ExecuteTime": {
     "end_time": "2023-09-15T17:31:01.503730100Z",
     "start_time": "2023-09-15T17:30:59.802041100Z"
    }
   },
   "outputs": [],
   "source": [
    "import numpy as np\n",
    "import pandas as pd\n",
    "import matplotlib.pyplot as plt"
   ]
  },
  {
   "cell_type": "markdown",
   "source": [
    "## Import dataset and Separate data into feature and labels"
   ],
   "metadata": {
    "collapsed": false
   },
   "id": "1cf67a2008e3eca2"
  },
  {
   "cell_type": "code",
   "execution_count": 2,
   "outputs": [
    {
     "data": {
      "text/plain": "array([['France', 44.0, 72000.0],\n       ['Spain', 27.0, 48000.0],\n       ['Germany', 30.0, 54000.0],\n       ['Spain', 38.0, 61000.0],\n       ['Germany', 40.0, nan],\n       ['France', 35.0, 58000.0],\n       ['Spain', nan, 52000.0],\n       ['France', 48.0, 79000.0],\n       ['Germany', 50.0, 83000.0],\n       ['France', 37.0, 67000.0]], dtype=object)"
     },
     "execution_count": 2,
     "metadata": {},
     "output_type": "execute_result"
    }
   ],
   "source": [
    "data = pd.read_csv(filepath_or_buffer='data.csv')\n",
    "feature = data.drop(labels='Purchased',axis=1).to_numpy()\n",
    "label = data.iloc[:,-1].to_numpy()\n",
    "feature"
   ],
   "metadata": {
    "collapsed": false,
    "ExecuteTime": {
     "end_time": "2023-09-15T17:31:01.549188400Z",
     "start_time": "2023-09-15T17:31:01.499795300Z"
    }
   },
   "id": "960c8b43fb8596b"
  },
  {
   "cell_type": "code",
   "execution_count": 3,
   "outputs": [
    {
     "data": {
      "text/plain": "array(['No', 'Yes', 'No', 'No', 'Yes', 'Yes', 'No', 'Yes', 'No', 'Yes'],\n      dtype=object)"
     },
     "execution_count": 3,
     "metadata": {},
     "output_type": "execute_result"
    }
   ],
   "source": [
    "label"
   ],
   "metadata": {
    "collapsed": false,
    "ExecuteTime": {
     "end_time": "2023-09-15T17:31:01.554170700Z",
     "start_time": "2023-09-15T17:31:01.527936100Z"
    }
   },
   "id": "cbec50c67d7cc5"
  },
  {
   "cell_type": "markdown",
   "source": [
    "## Treating Missing Data in Dataset"
   ],
   "metadata": {
    "collapsed": false
   },
   "id": "d898bd60cdcfb28f"
  },
  {
   "cell_type": "code",
   "execution_count": 4,
   "outputs": [
    {
     "data": {
      "text/plain": "array([['France', 44.0, 72000.0],\n       ['Spain', 27.0, 48000.0],\n       ['Germany', 30.0, 54000.0],\n       ['Spain', 38.0, 61000.0],\n       ['Germany', 40.0, 63777.77777777778],\n       ['France', 35.0, 58000.0],\n       ['Spain', 38.77777777777778, 52000.0],\n       ['France', 48.0, 79000.0],\n       ['Germany', 50.0, 83000.0],\n       ['France', 37.0, 67000.0]], dtype=object)"
     },
     "execution_count": 4,
     "metadata": {},
     "output_type": "execute_result"
    }
   ],
   "source": [
    "from sklearn.impute import SimpleImputer\n",
    "\n",
    "miss_treat = SimpleImputer(\n",
    "    missing_values=np.nan,\n",
    "    strategy=\"mean\",\n",
    ")\n",
    "miss_treat.fit(feature[:, 1:3]) # fit data values to fit the model\n",
    "feature[:, 1:3] = miss_treat.transform(feature[:, 1:3]) # replace the values of missing values to obtained value\n",
    "\n",
    "feature"
   ],
   "metadata": {
    "collapsed": false,
    "ExecuteTime": {
     "end_time": "2023-09-15T17:31:03.357142200Z",
     "start_time": "2023-09-15T17:31:01.542128500Z"
    }
   },
   "id": "7f007e350b4bde7c"
  },
  {
   "cell_type": "markdown",
   "source": [
    "## Encoding Categorical Data i.e String columns to numbers"
   ],
   "metadata": {
    "collapsed": false
   },
   "id": "b23f8ad44122cd57"
  },
  {
   "cell_type": "markdown",
   "source": [
    "### Independent variable"
   ],
   "metadata": {
    "collapsed": false
   },
   "id": "708642cf16a8a342"
  },
  {
   "cell_type": "code",
   "execution_count": 5,
   "outputs": [
    {
     "data": {
      "text/plain": "array([[1.0, 0.0, 0.0, 44.0, 72000.0],\n       [0.0, 0.0, 1.0, 27.0, 48000.0],\n       [0.0, 1.0, 0.0, 30.0, 54000.0],\n       [0.0, 0.0, 1.0, 38.0, 61000.0],\n       [0.0, 1.0, 0.0, 40.0, 63777.77777777778],\n       [1.0, 0.0, 0.0, 35.0, 58000.0],\n       [0.0, 0.0, 1.0, 38.77777777777778, 52000.0],\n       [1.0, 0.0, 0.0, 48.0, 79000.0],\n       [0.0, 1.0, 0.0, 50.0, 83000.0],\n       [1.0, 0.0, 0.0, 37.0, 67000.0]], dtype=object)"
     },
     "execution_count": 5,
     "metadata": {},
     "output_type": "execute_result"
    }
   ],
   "source": [
    "from sklearn.compose import ColumnTransformer\n",
    "from sklearn.preprocessing import OneHotEncoder\n",
    "\n",
    "column_transform = ColumnTransformer(\n",
    "    transformers=[('encode',OneHotEncoder(), [0])],\n",
    "    remainder='passthrough'\n",
    ")\n",
    "feature = column_transform.fit_transform(feature)\n",
    "feature"
   ],
   "metadata": {
    "collapsed": false,
    "ExecuteTime": {
     "end_time": "2023-09-15T17:31:03.400996100Z",
     "start_time": "2023-09-15T17:31:03.352143800Z"
    }
   },
   "id": "1d0fc2c34aa83426"
  },
  {
   "cell_type": "markdown",
   "source": [
    "### dependent variable"
   ],
   "metadata": {
    "collapsed": false
   },
   "id": "8b7975c53aa2dba"
  },
  {
   "cell_type": "code",
   "execution_count": 6,
   "outputs": [
    {
     "data": {
      "text/plain": "array([0, 1, 0, 0, 1, 1, 0, 1, 0, 1])"
     },
     "execution_count": 6,
     "metadata": {},
     "output_type": "execute_result"
    }
   ],
   "source": [
    "from sklearn.preprocessing import LabelEncoder\n",
    "\n",
    "label_en = LabelEncoder()\n",
    "label = label_en.fit_transform(label)\n",
    "label"
   ],
   "metadata": {
    "collapsed": false,
    "ExecuteTime": {
     "end_time": "2023-09-15T17:31:03.413921900Z",
     "start_time": "2023-09-15T17:31:03.392254200Z"
    }
   },
   "id": "7670c582598c1b65"
  },
  {
   "cell_type": "markdown",
   "source": [
    "## Split Data in Train and Test datasets"
   ],
   "metadata": {
    "collapsed": false
   },
   "id": "c37091dfa0f1e300"
  },
  {
   "cell_type": "code",
   "execution_count": 7,
   "outputs": [],
   "source": [
    "from sklearn.model_selection import train_test_split\n",
    "\n",
    "feature_train, feature_test, label_train, label_test = train_test_split(\n",
    "    feature,\n",
    "    label,\n",
    "    test_size=0.2,\n",
    "    random_state=42,\n",
    "    shuffle=True\n",
    ")"
   ],
   "metadata": {
    "collapsed": false,
    "ExecuteTime": {
     "end_time": "2023-09-15T17:31:03.433472900Z",
     "start_time": "2023-09-15T17:31:03.406006500Z"
    }
   },
   "id": "4f4bfd1ae8313c90"
  },
  {
   "cell_type": "markdown",
   "source": [
    "## Feature Scaling (Normalizing large values which makes other values ignored)"
   ],
   "metadata": {
    "collapsed": false
   },
   "id": "373245df476fc414"
  },
  {
   "cell_type": "code",
   "execution_count": 8,
   "outputs": [
    {
     "data": {
      "text/plain": "array([[1.0, 0.0, 0.0, -0.7529426005471072, -0.6260377781240918],\n       [1.0, 0.0, 0.0, 1.008453807952985, 1.0130429500553495],\n       [1.0, 0.0, 0.0, 1.7912966561752484, 1.8325833141450703],\n       [0.0, 1.0, 0.0, -1.7314961608249362, -1.0943465576039322],\n       [1.0, 0.0, 0.0, -0.3615211764359756, 0.42765697570554906],\n       [0.0, 1.0, 0.0, 0.22561095973072184, 0.05040823668012247],\n       [0.0, 0.0, 1.0, -0.16581046438040975, -0.27480619351421154],\n       [0.0, 0.0, 1.0, -0.013591021670525094, -1.3285009473438525]],\n      dtype=object)"
     },
     "execution_count": 8,
     "metadata": {},
     "output_type": "execute_result"
    }
   ],
   "source": [
    "from sklearn.preprocessing import StandardScaler\n",
    "\n",
    "normalize = StandardScaler(with_mean=True)\n",
    "feature_train[:, 3:4] = normalize.fit_transform(feature_train[:,3:4])\n",
    "feature_train[:, 4:5] = normalize.fit_transform(feature_train[:,4:5])\n",
    "feature_train"
   ],
   "metadata": {
    "collapsed": false,
    "ExecuteTime": {
     "end_time": "2023-09-15T17:31:03.438483400Z",
     "start_time": "2023-09-15T17:31:03.418929500Z"
    }
   },
   "id": "f59e94f8438526d9"
  }
 ],
 "metadata": {
  "kernelspec": {
   "display_name": "Python 3",
   "language": "python",
   "name": "python3"
  },
  "language_info": {
   "codemirror_mode": {
    "name": "ipython",
    "version": 2
   },
   "file_extension": ".py",
   "mimetype": "text/x-python",
   "name": "python",
   "nbconvert_exporter": "python",
   "pygments_lexer": "ipython2",
   "version": "2.7.6"
  }
 },
 "nbformat": 4,
 "nbformat_minor": 5
}
