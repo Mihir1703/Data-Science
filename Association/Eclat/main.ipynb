{
 "cells": [
  {
   "cell_type": "code",
   "execution_count": 24,
   "id": "initial_id",
   "metadata": {
    "collapsed": true,
    "ExecuteTime": {
     "end_time": "2023-10-02T16:19:15.074222600Z",
     "start_time": "2023-10-02T16:19:15.068039Z"
    }
   },
   "outputs": [],
   "source": [
    "import numpy as np\n",
    "import matplotlib.pyplot as plt\n",
    "import pandas as pd"
   ]
  },
  {
   "cell_type": "code",
   "execution_count": 25,
   "outputs": [],
   "source": [
    "data = pd.read_csv('Market_Basket_Optimisation.csv',header=None)\n",
    "transact = []\n",
    "for i in range(0,7501):\n",
    "    transact.append([str(data.values[i,j]) for j in range(0,20) if str(data.values[i,j]) != 'nan'])\n"
   ],
   "metadata": {
    "collapsed": false,
    "ExecuteTime": {
     "end_time": "2023-10-02T16:19:15.951695800Z",
     "start_time": "2023-10-02T16:19:15.075309400Z"
    }
   },
   "id": "a2bb57ee0383c614"
  },
  {
   "cell_type": "code",
   "execution_count": 26,
   "outputs": [],
   "source": [
    "from apyori import apriori\n",
    "\n",
    "rule = apriori(transactions=transact,min_support=0.003,min_confidence=0.2,min_lift=3,min_length=2,max_length=2)"
   ],
   "metadata": {
    "collapsed": false,
    "ExecuteTime": {
     "end_time": "2023-10-02T16:19:15.963976900Z",
     "start_time": "2023-10-02T16:19:15.957308900Z"
    }
   },
   "id": "96ece8ec04cb4299"
  },
  {
   "cell_type": "code",
   "execution_count": 27,
   "outputs": [
    {
     "data": {
      "text/plain": "[RelationRecord(items=frozenset({'chicken', 'light cream'}), support=0.004532728969470737, ordered_statistics=[OrderedStatistic(items_base=frozenset({'light cream'}), items_add=frozenset({'chicken'}), confidence=0.29059829059829057, lift=4.84395061728395)]),\n RelationRecord(items=frozenset({'escalope', 'mushroom cream sauce'}), support=0.005732568990801226, ordered_statistics=[OrderedStatistic(items_base=frozenset({'mushroom cream sauce'}), items_add=frozenset({'escalope'}), confidence=0.3006993006993007, lift=3.790832696715049)]),\n RelationRecord(items=frozenset({'pasta', 'escalope'}), support=0.005865884548726837, ordered_statistics=[OrderedStatistic(items_base=frozenset({'pasta'}), items_add=frozenset({'escalope'}), confidence=0.3728813559322034, lift=4.700811850163794)]),\n RelationRecord(items=frozenset({'honey', 'fromage blanc'}), support=0.003332888948140248, ordered_statistics=[OrderedStatistic(items_base=frozenset({'fromage blanc'}), items_add=frozenset({'honey'}), confidence=0.2450980392156863, lift=5.164270764485569)]),\n RelationRecord(items=frozenset({'herb & pepper', 'ground beef'}), support=0.015997866951073192, ordered_statistics=[OrderedStatistic(items_base=frozenset({'herb & pepper'}), items_add=frozenset({'ground beef'}), confidence=0.3234501347708895, lift=3.2919938411349285)]),\n RelationRecord(items=frozenset({'tomato sauce', 'ground beef'}), support=0.005332622317024397, ordered_statistics=[OrderedStatistic(items_base=frozenset({'tomato sauce'}), items_add=frozenset({'ground beef'}), confidence=0.3773584905660377, lift=3.840659481324083)]),\n RelationRecord(items=frozenset({'light cream', 'olive oil'}), support=0.003199573390214638, ordered_statistics=[OrderedStatistic(items_base=frozenset({'light cream'}), items_add=frozenset({'olive oil'}), confidence=0.20512820512820515, lift=3.1147098515519573)]),\n RelationRecord(items=frozenset({'olive oil', 'whole wheat pasta'}), support=0.007998933475536596, ordered_statistics=[OrderedStatistic(items_base=frozenset({'whole wheat pasta'}), items_add=frozenset({'olive oil'}), confidence=0.2714932126696833, lift=4.122410097642296)]),\n RelationRecord(items=frozenset({'pasta', 'shrimp'}), support=0.005065991201173177, ordered_statistics=[OrderedStatistic(items_base=frozenset({'pasta'}), items_add=frozenset({'shrimp'}), confidence=0.3220338983050847, lift=4.506672147735896)])]"
     },
     "execution_count": 27,
     "metadata": {},
     "output_type": "execute_result"
    }
   ],
   "source": [
    "result = list(rule)\n",
    "result"
   ],
   "metadata": {
    "collapsed": false,
    "ExecuteTime": {
     "end_time": "2023-10-02T16:19:16.090922400Z",
     "start_time": "2023-10-02T16:19:15.964997Z"
    }
   },
   "id": "d9bc0f8cc4f26014"
  },
  {
   "cell_type": "code",
   "execution_count": 28,
   "outputs": [],
   "source": [
    "def print_rule(results):\n",
    "    base = [tuple(res[2][0][0]) for res in results]\n",
    "    add = [tuple(res[2][0][1]) for res in results]\n",
    "    support = [res[1] for res in results]\n",
    "    return list(zip(base,add,support))\n",
    "\n",
    "resulting_data = pd.DataFrame(print_rule(result),columns=[\n",
    "    'Base Product','Additional Product','Support'\n",
    "])"
   ],
   "metadata": {
    "collapsed": false,
    "ExecuteTime": {
     "end_time": "2023-10-02T16:19:16.100089700Z",
     "start_time": "2023-10-02T16:19:16.090922400Z"
    }
   },
   "id": "70c8e5ed259f1333"
  },
  {
   "cell_type": "code",
   "execution_count": 29,
   "outputs": [
    {
     "data": {
      "text/plain": "              Base Product Additional Product   Support\n4         (herb & pepper,)     (ground beef,)  0.015998\n7     (whole wheat pasta,)       (olive oil,)  0.007999\n2                 (pasta,)        (escalope,)  0.005866\n1  (mushroom cream sauce,)        (escalope,)  0.005733\n5          (tomato sauce,)     (ground beef,)  0.005333\n8                 (pasta,)          (shrimp,)  0.005066\n0           (light cream,)         (chicken,)  0.004533\n3         (fromage blanc,)           (honey,)  0.003333\n6           (light cream,)       (olive oil,)  0.003200",
      "text/html": "<div>\n<style scoped>\n    .dataframe tbody tr th:only-of-type {\n        vertical-align: middle;\n    }\n\n    .dataframe tbody tr th {\n        vertical-align: top;\n    }\n\n    .dataframe thead th {\n        text-align: right;\n    }\n</style>\n<table border=\"1\" class=\"dataframe\">\n  <thead>\n    <tr style=\"text-align: right;\">\n      <th></th>\n      <th>Base Product</th>\n      <th>Additional Product</th>\n      <th>Support</th>\n    </tr>\n  </thead>\n  <tbody>\n    <tr>\n      <th>4</th>\n      <td>(herb &amp; pepper,)</td>\n      <td>(ground beef,)</td>\n      <td>0.015998</td>\n    </tr>\n    <tr>\n      <th>7</th>\n      <td>(whole wheat pasta,)</td>\n      <td>(olive oil,)</td>\n      <td>0.007999</td>\n    </tr>\n    <tr>\n      <th>2</th>\n      <td>(pasta,)</td>\n      <td>(escalope,)</td>\n      <td>0.005866</td>\n    </tr>\n    <tr>\n      <th>1</th>\n      <td>(mushroom cream sauce,)</td>\n      <td>(escalope,)</td>\n      <td>0.005733</td>\n    </tr>\n    <tr>\n      <th>5</th>\n      <td>(tomato sauce,)</td>\n      <td>(ground beef,)</td>\n      <td>0.005333</td>\n    </tr>\n    <tr>\n      <th>8</th>\n      <td>(pasta,)</td>\n      <td>(shrimp,)</td>\n      <td>0.005066</td>\n    </tr>\n    <tr>\n      <th>0</th>\n      <td>(light cream,)</td>\n      <td>(chicken,)</td>\n      <td>0.004533</td>\n    </tr>\n    <tr>\n      <th>3</th>\n      <td>(fromage blanc,)</td>\n      <td>(honey,)</td>\n      <td>0.003333</td>\n    </tr>\n    <tr>\n      <th>6</th>\n      <td>(light cream,)</td>\n      <td>(olive oil,)</td>\n      <td>0.003200</td>\n    </tr>\n  </tbody>\n</table>\n</div>"
     },
     "execution_count": 29,
     "metadata": {},
     "output_type": "execute_result"
    }
   ],
   "source": [
    "resulting_data.sort_values(by='Support',ascending=False)"
   ],
   "metadata": {
    "collapsed": false,
    "ExecuteTime": {
     "end_time": "2023-10-02T16:19:16.176642800Z",
     "start_time": "2023-10-02T16:19:16.105153600Z"
    }
   },
   "id": "38c3b0b0854dfade"
  }
 ],
 "metadata": {
  "kernelspec": {
   "display_name": "Python 3",
   "language": "python",
   "name": "python3"
  },
  "language_info": {
   "codemirror_mode": {
    "name": "ipython",
    "version": 2
   },
   "file_extension": ".py",
   "mimetype": "text/x-python",
   "name": "python",
   "nbconvert_exporter": "python",
   "pygments_lexer": "ipython2",
   "version": "2.7.6"
  }
 },
 "nbformat": 4,
 "nbformat_minor": 5
}
