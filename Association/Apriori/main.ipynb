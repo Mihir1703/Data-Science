{
 "cells": [
  {
   "cell_type": "code",
   "execution_count": 137,
   "id": "initial_id",
   "metadata": {
    "collapsed": true,
    "ExecuteTime": {
     "end_time": "2023-10-02T15:55:47.069794300Z",
     "start_time": "2023-10-02T15:55:47.039762500Z"
    }
   },
   "outputs": [],
   "source": [
    "import numpy as np\n",
    "import matplotlib.pyplot as plt\n",
    "import pandas as pd"
   ]
  },
  {
   "cell_type": "code",
   "execution_count": 138,
   "outputs": [],
   "source": [
    "data = pd.read_csv('Market_Basket_Optimisation.csv',header=None)\n",
    "transact = []\n",
    "for i in range(0,7501):\n",
    "    transact.append([str(data.values[i,j]) for j in range(0,20) if str(data.values[i,j]) != 'nan'])\n"
   ],
   "metadata": {
    "collapsed": false,
    "ExecuteTime": {
     "end_time": "2023-10-02T15:55:48.136731800Z",
     "start_time": "2023-10-02T15:55:47.054796Z"
    }
   },
   "id": "a2bb57ee0383c614"
  },
  {
   "cell_type": "code",
   "execution_count": 139,
   "outputs": [],
   "source": [
    "from apyori import apriori\n",
    "\n",
    "rule = apriori(transactions=transact,min_support=0.003,min_confidence=0.2,min_lift=3,min_length=2,max_length=2)"
   ],
   "metadata": {
    "collapsed": false,
    "ExecuteTime": {
     "end_time": "2023-10-02T15:55:48.149496Z",
     "start_time": "2023-10-02T15:55:48.143394700Z"
    }
   },
   "id": "96ece8ec04cb4299"
  },
  {
   "cell_type": "code",
   "execution_count": 140,
   "outputs": [
    {
     "data": {
      "text/plain": "[RelationRecord(items=frozenset({'light cream', 'chicken'}), support=0.004532728969470737, ordered_statistics=[OrderedStatistic(items_base=frozenset({'light cream'}), items_add=frozenset({'chicken'}), confidence=0.29059829059829057, lift=4.84395061728395)]),\n RelationRecord(items=frozenset({'escalope', 'mushroom cream sauce'}), support=0.005732568990801226, ordered_statistics=[OrderedStatistic(items_base=frozenset({'mushroom cream sauce'}), items_add=frozenset({'escalope'}), confidence=0.3006993006993007, lift=3.790832696715049)]),\n RelationRecord(items=frozenset({'escalope', 'pasta'}), support=0.005865884548726837, ordered_statistics=[OrderedStatistic(items_base=frozenset({'pasta'}), items_add=frozenset({'escalope'}), confidence=0.3728813559322034, lift=4.700811850163794)]),\n RelationRecord(items=frozenset({'fromage blanc', 'honey'}), support=0.003332888948140248, ordered_statistics=[OrderedStatistic(items_base=frozenset({'fromage blanc'}), items_add=frozenset({'honey'}), confidence=0.2450980392156863, lift=5.164270764485569)]),\n RelationRecord(items=frozenset({'ground beef', 'herb & pepper'}), support=0.015997866951073192, ordered_statistics=[OrderedStatistic(items_base=frozenset({'herb & pepper'}), items_add=frozenset({'ground beef'}), confidence=0.3234501347708895, lift=3.2919938411349285)]),\n RelationRecord(items=frozenset({'ground beef', 'tomato sauce'}), support=0.005332622317024397, ordered_statistics=[OrderedStatistic(items_base=frozenset({'tomato sauce'}), items_add=frozenset({'ground beef'}), confidence=0.3773584905660377, lift=3.840659481324083)]),\n RelationRecord(items=frozenset({'light cream', 'olive oil'}), support=0.003199573390214638, ordered_statistics=[OrderedStatistic(items_base=frozenset({'light cream'}), items_add=frozenset({'olive oil'}), confidence=0.20512820512820515, lift=3.1147098515519573)]),\n RelationRecord(items=frozenset({'whole wheat pasta', 'olive oil'}), support=0.007998933475536596, ordered_statistics=[OrderedStatistic(items_base=frozenset({'whole wheat pasta'}), items_add=frozenset({'olive oil'}), confidence=0.2714932126696833, lift=4.122410097642296)]),\n RelationRecord(items=frozenset({'shrimp', 'pasta'}), support=0.005065991201173177, ordered_statistics=[OrderedStatistic(items_base=frozenset({'pasta'}), items_add=frozenset({'shrimp'}), confidence=0.3220338983050847, lift=4.506672147735896)])]"
     },
     "execution_count": 140,
     "metadata": {},
     "output_type": "execute_result"
    }
   ],
   "source": [
    "result = list(rule)\n",
    "result"
   ],
   "metadata": {
    "collapsed": false,
    "ExecuteTime": {
     "end_time": "2023-10-02T15:55:48.280852100Z",
     "start_time": "2023-10-02T15:55:48.150566800Z"
    }
   },
   "id": "d9bc0f8cc4f26014"
  },
  {
   "cell_type": "code",
   "execution_count": 141,
   "outputs": [],
   "source": [
    "def print_rule(results):\n",
    "    base = [tuple(res[2][0][0]) for res in results]\n",
    "    add = [tuple(res[2][0][1]) for res in results]\n",
    "    support = [res[1] for res in results]\n",
    "    confidence = [res[2][0][2] for res in results]\n",
    "    lift = [res[2][0][3] for res in results]\n",
    "    return list(zip(base,add,support,confidence,lift))\n",
    "\n",
    "resulting_data = pd.DataFrame(print_rule(result),columns=[\n",
    "    'Base Product','Additional Product','Support', 'Confidence', 'Lift'\n",
    "])"
   ],
   "metadata": {
    "collapsed": false,
    "ExecuteTime": {
     "end_time": "2023-10-02T15:55:48.348519100Z",
     "start_time": "2023-10-02T15:55:48.275908300Z"
    }
   },
   "id": "70c8e5ed259f1333"
  },
  {
   "cell_type": "code",
   "execution_count": 143,
   "outputs": [
    {
     "data": {
      "text/plain": "              Base Product Additional Product   Support  Confidence      Lift\n3         (fromage blanc,)           (honey,)  0.003333    0.245098  5.164271\n0           (light cream,)         (chicken,)  0.004533    0.290598  4.843951\n2                 (pasta,)        (escalope,)  0.005866    0.372881  4.700812\n8                 (pasta,)          (shrimp,)  0.005066    0.322034  4.506672\n7     (whole wheat pasta,)       (olive oil,)  0.007999    0.271493  4.122410\n5          (tomato sauce,)     (ground beef,)  0.005333    0.377358  3.840659\n1  (mushroom cream sauce,)        (escalope,)  0.005733    0.300699  3.790833\n4         (herb & pepper,)     (ground beef,)  0.015998    0.323450  3.291994\n6           (light cream,)       (olive oil,)  0.003200    0.205128  3.114710",
      "text/html": "<div>\n<style scoped>\n    .dataframe tbody tr th:only-of-type {\n        vertical-align: middle;\n    }\n\n    .dataframe tbody tr th {\n        vertical-align: top;\n    }\n\n    .dataframe thead th {\n        text-align: right;\n    }\n</style>\n<table border=\"1\" class=\"dataframe\">\n  <thead>\n    <tr style=\"text-align: right;\">\n      <th></th>\n      <th>Base Product</th>\n      <th>Additional Product</th>\n      <th>Support</th>\n      <th>Confidence</th>\n      <th>Lift</th>\n    </tr>\n  </thead>\n  <tbody>\n    <tr>\n      <th>3</th>\n      <td>(fromage blanc,)</td>\n      <td>(honey,)</td>\n      <td>0.003333</td>\n      <td>0.245098</td>\n      <td>5.164271</td>\n    </tr>\n    <tr>\n      <th>0</th>\n      <td>(light cream,)</td>\n      <td>(chicken,)</td>\n      <td>0.004533</td>\n      <td>0.290598</td>\n      <td>4.843951</td>\n    </tr>\n    <tr>\n      <th>2</th>\n      <td>(pasta,)</td>\n      <td>(escalope,)</td>\n      <td>0.005866</td>\n      <td>0.372881</td>\n      <td>4.700812</td>\n    </tr>\n    <tr>\n      <th>8</th>\n      <td>(pasta,)</td>\n      <td>(shrimp,)</td>\n      <td>0.005066</td>\n      <td>0.322034</td>\n      <td>4.506672</td>\n    </tr>\n    <tr>\n      <th>7</th>\n      <td>(whole wheat pasta,)</td>\n      <td>(olive oil,)</td>\n      <td>0.007999</td>\n      <td>0.271493</td>\n      <td>4.122410</td>\n    </tr>\n    <tr>\n      <th>5</th>\n      <td>(tomato sauce,)</td>\n      <td>(ground beef,)</td>\n      <td>0.005333</td>\n      <td>0.377358</td>\n      <td>3.840659</td>\n    </tr>\n    <tr>\n      <th>1</th>\n      <td>(mushroom cream sauce,)</td>\n      <td>(escalope,)</td>\n      <td>0.005733</td>\n      <td>0.300699</td>\n      <td>3.790833</td>\n    </tr>\n    <tr>\n      <th>4</th>\n      <td>(herb &amp; pepper,)</td>\n      <td>(ground beef,)</td>\n      <td>0.015998</td>\n      <td>0.323450</td>\n      <td>3.291994</td>\n    </tr>\n    <tr>\n      <th>6</th>\n      <td>(light cream,)</td>\n      <td>(olive oil,)</td>\n      <td>0.003200</td>\n      <td>0.205128</td>\n      <td>3.114710</td>\n    </tr>\n  </tbody>\n</table>\n</div>"
     },
     "execution_count": 143,
     "metadata": {},
     "output_type": "execute_result"
    }
   ],
   "source": [
    "resulting_data.sort_values(by='Lift',ascending=False)"
   ],
   "metadata": {
    "collapsed": false,
    "ExecuteTime": {
     "end_time": "2023-10-02T15:56:06.469590500Z",
     "start_time": "2023-10-02T15:56:06.449281400Z"
    }
   },
   "id": "38c3b0b0854dfade"
  }
 ],
 "metadata": {
  "kernelspec": {
   "display_name": "Python 3",
   "language": "python",
   "name": "python3"
  },
  "language_info": {
   "codemirror_mode": {
    "name": "ipython",
    "version": 2
   },
   "file_extension": ".py",
   "mimetype": "text/x-python",
   "name": "python",
   "nbconvert_exporter": "python",
   "pygments_lexer": "ipython2",
   "version": "2.7.6"
  }
 },
 "nbformat": 4,
 "nbformat_minor": 5
}
